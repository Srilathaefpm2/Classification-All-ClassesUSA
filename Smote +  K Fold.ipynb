{
 "cells": [
  {
   "cell_type": "code",
   "execution_count": 58,
   "metadata": {},
   "outputs": [],
   "source": [
    "import numpy as np, pandas as pd, matplotlib.pyplot as plt\n",
    "import seaborn as sns\n",
    "from sklearn.metrics import precision_recall_fscore_support"
   ]
  },
  {
   "cell_type": "code",
   "execution_count": 59,
   "metadata": {},
   "outputs": [
    {
     "data": {
      "text/html": [
       "<div>\n",
       "<style scoped>\n",
       "    .dataframe tbody tr th:only-of-type {\n",
       "        vertical-align: middle;\n",
       "    }\n",
       "\n",
       "    .dataframe tbody tr th {\n",
       "        vertical-align: top;\n",
       "    }\n",
       "\n",
       "    .dataframe thead th {\n",
       "        text-align: right;\n",
       "    }\n",
       "</style>\n",
       "<table border=\"1\" class=\"dataframe\">\n",
       "  <thead>\n",
       "    <tr style=\"text-align: right;\">\n",
       "      <th></th>\n",
       "      <th>year</th>\n",
       "      <th>emp_length_int</th>\n",
       "      <th>home_ownership_cat</th>\n",
       "      <th>income_cat</th>\n",
       "      <th>loan_amount</th>\n",
       "      <th>term_cat</th>\n",
       "      <th>purpose_cat</th>\n",
       "      <th>interest_payment_cat</th>\n",
       "      <th>loan_condition</th>\n",
       "      <th>interest_rate</th>\n",
       "      <th>grade_cat</th>\n",
       "      <th>total_pymnt</th>\n",
       "      <th>total_rec_prncp</th>\n",
       "      <th>installment</th>\n",
       "      <th>region</th>\n",
       "    </tr>\n",
       "  </thead>\n",
       "  <tbody>\n",
       "    <tr>\n",
       "      <th>0</th>\n",
       "      <td>4</td>\n",
       "      <td>2</td>\n",
       "      <td>1</td>\n",
       "      <td>1</td>\n",
       "      <td>0</td>\n",
       "      <td>1</td>\n",
       "      <td>1</td>\n",
       "      <td>1</td>\n",
       "      <td>1</td>\n",
       "      <td>2</td>\n",
       "      <td>2</td>\n",
       "      <td>1</td>\n",
       "      <td>1</td>\n",
       "      <td>0</td>\n",
       "      <td>4</td>\n",
       "    </tr>\n",
       "    <tr>\n",
       "      <th>1</th>\n",
       "      <td>4</td>\n",
       "      <td>0</td>\n",
       "      <td>1</td>\n",
       "      <td>1</td>\n",
       "      <td>0</td>\n",
       "      <td>2</td>\n",
       "      <td>2</td>\n",
       "      <td>2</td>\n",
       "      <td>0</td>\n",
       "      <td>3</td>\n",
       "      <td>3</td>\n",
       "      <td>0</td>\n",
       "      <td>0</td>\n",
       "      <td>0</td>\n",
       "      <td>0</td>\n",
       "    </tr>\n",
       "    <tr>\n",
       "      <th>2</th>\n",
       "      <td>4</td>\n",
       "      <td>2</td>\n",
       "      <td>1</td>\n",
       "      <td>1</td>\n",
       "      <td>0</td>\n",
       "      <td>1</td>\n",
       "      <td>3</td>\n",
       "      <td>2</td>\n",
       "      <td>1</td>\n",
       "      <td>3</td>\n",
       "      <td>3</td>\n",
       "      <td>0</td>\n",
       "      <td>0</td>\n",
       "      <td>0</td>\n",
       "      <td>3</td>\n",
       "    </tr>\n",
       "    <tr>\n",
       "      <th>3</th>\n",
       "      <td>4</td>\n",
       "      <td>2</td>\n",
       "      <td>1</td>\n",
       "      <td>1</td>\n",
       "      <td>1</td>\n",
       "      <td>1</td>\n",
       "      <td>4</td>\n",
       "      <td>2</td>\n",
       "      <td>1</td>\n",
       "      <td>2</td>\n",
       "      <td>3</td>\n",
       "      <td>2</td>\n",
       "      <td>2</td>\n",
       "      <td>1</td>\n",
       "      <td>1</td>\n",
       "    </tr>\n",
       "    <tr>\n",
       "      <th>4</th>\n",
       "      <td>4</td>\n",
       "      <td>0</td>\n",
       "      <td>1</td>\n",
       "      <td>1</td>\n",
       "      <td>0</td>\n",
       "      <td>2</td>\n",
       "      <td>4</td>\n",
       "      <td>1</td>\n",
       "      <td>1</td>\n",
       "      <td>2</td>\n",
       "      <td>2</td>\n",
       "      <td>0</td>\n",
       "      <td>0</td>\n",
       "      <td>0</td>\n",
       "      <td>1</td>\n",
       "    </tr>\n",
       "  </tbody>\n",
       "</table>\n",
       "</div>"
      ],
      "text/plain": [
       "   year  emp_length_int  home_ownership_cat  income_cat  loan_amount  \\\n",
       "0     4               2                   1           1            0   \n",
       "1     4               0                   1           1            0   \n",
       "2     4               2                   1           1            0   \n",
       "3     4               2                   1           1            1   \n",
       "4     4               0                   1           1            0   \n",
       "\n",
       "   term_cat  purpose_cat  interest_payment_cat  loan_condition  interest_rate  \\\n",
       "0         1            1                     1               1              2   \n",
       "1         2            2                     2               0              3   \n",
       "2         1            3                     2               1              3   \n",
       "3         1            4                     2               1              2   \n",
       "4         2            4                     1               1              2   \n",
       "\n",
       "   grade_cat  total_pymnt  total_rec_prncp  installment  region  \n",
       "0          2            1                1            0       4  \n",
       "1          3            0                0            0       0  \n",
       "2          3            0                0            0       3  \n",
       "3          3            2                2            1       1  \n",
       "4          2            0                0            0       1  "
      ]
     },
     "execution_count": 59,
     "metadata": {},
     "output_type": "execute_result"
    }
   ],
   "source": [
    "data=pd.read_csv('C:/Users/sai kiran/Desktop/export_dataframe.csv')\n",
    "data.head()"
   ]
  },
  {
   "cell_type": "code",
   "execution_count": 60,
   "metadata": {},
   "outputs": [
    {
     "name": "stdout",
     "output_type": "stream",
     "text": [
      "(868946, 14) (868946, 1)\n"
     ]
    }
   ],
   "source": [
    "\n",
    "from imblearn.over_sampling import SMOTE \n",
    "sm = SMOTE(random_state = 2)\n",
    "y=data['loan_condition'].values\n",
    "data.drop('loan_condition',axis=1,inplace=True)\n",
    "X=data[:].values\n",
    "y=y.reshape(-1, 1)\n",
    "print(X.shape,y.shape)"
   ]
  },
  {
   "cell_type": "code",
   "execution_count": 61,
   "metadata": {},
   "outputs": [
    {
     "name": "stdout",
     "output_type": "stream",
     "text": [
      "(1604988, 14) (1604988,)\n"
     ]
    }
   ],
   "source": [
    "X,y=sm.fit_sample(X, y.ravel())\n",
    "print(X.shape,y.shape)"
   ]
  },
  {
   "cell_type": "code",
   "execution_count": 62,
   "metadata": {},
   "outputs": [
    {
     "name": "stdout",
     "output_type": "stream",
     "text": [
      "[[ 5.83115829 -2.19215882  0.48358609 ...  2.95478024  0.02758522\n",
      "  -1.10054719]\n",
      " [ 6.12918522 -0.93437828 -0.65467543 ... -0.63128138  0.03824622\n",
      "  -0.70712518]\n",
      " [ 7.19910753 -0.48692134 -0.62186293 ...  2.19170933  0.32986355\n",
      "  -0.76235483]\n",
      " ...\n",
      " [10.59901376  0.5523302   0.42646834 ...  0.12766757  0.23409406\n",
      "  -0.10332271]\n",
      " [11.35065848  0.43346422 -1.36363657 ...  0.53089533  1.09303435\n",
      "  -0.46776865]\n",
      " [ 8.05101229 -3.44623916 -0.38316947 ...  2.5948228   0.55149963\n",
      "  -0.97623493]] [1 0 1 ... 0 0 0]\n",
      "(1604988, 7) (1604988,)\n"
     ]
    }
   ],
   "source": [
    "from sklearn.decomposition import TruncatedSVD\n",
    "from sklearn.metrics import accuracy_score,confusion_matrix\n",
    "from sklearn.model_selection import KFold\n",
    "kf5 = KFold(n_splits=5)\n",
    "kf2 = KFold(n_splits=2)\n",
    "kf3 = KFold(n_splits=3)\n",
    "kf10 =KFold(n_splits=10)\n",
    "from sklearn.linear_model import LogisticRegression,Perceptron\n",
    "svd = TruncatedSVD(n_components=7, n_iter=7, random_state=42)\n",
    "x=svd.fit_transform(X)\n",
    "print(x,y)\n",
    "print(x.shape,y.shape)"
   ]
  },
  {
   "cell_type": "code",
   "execution_count": 63,
   "metadata": {},
   "outputs": [
    {
     "data": {
      "text/plain": [
       "10"
      ]
     },
     "execution_count": 63,
     "metadata": {},
     "output_type": "execute_result"
    }
   ],
   "source": [
    "kf10.get_n_splits(X)"
   ]
  },
  {
   "cell_type": "markdown",
   "metadata": {},
   "source": [
    "### 10 fold"
   ]
  },
  {
   "cell_type": "code",
   "execution_count": 64,
   "metadata": {},
   "outputs": [
    {
     "name": "stdout",
     "output_type": "stream",
     "text": [
      "TRAIN: [ 160499  160500  160501 ... 1604985 1604986 1604987] TEST: [     0      1      2 ... 160496 160497 160498]\n",
      "(1444489, 7) (160499, 7)\n",
      "TRAIN: [      0       1       2 ... 1604985 1604986 1604987] TEST: [160499 160500 160501 ... 320995 320996 320997]\n",
      "(1444489, 7) (160499, 7)\n",
      "TRAIN: [      0       1       2 ... 1604985 1604986 1604987] TEST: [320998 320999 321000 ... 481494 481495 481496]\n",
      "(1444489, 7) (160499, 7)\n",
      "TRAIN: [      0       1       2 ... 1604985 1604986 1604987] TEST: [481497 481498 481499 ... 641993 641994 641995]\n",
      "(1444489, 7) (160499, 7)\n",
      "TRAIN: [      0       1       2 ... 1604985 1604986 1604987] TEST: [641996 641997 641998 ... 802492 802493 802494]\n",
      "(1444489, 7) (160499, 7)\n",
      "TRAIN: [      0       1       2 ... 1604985 1604986 1604987] TEST: [802495 802496 802497 ... 962991 962992 962993]\n",
      "(1444489, 7) (160499, 7)\n",
      "TRAIN: [      0       1       2 ... 1604985 1604986 1604987] TEST: [ 962994  962995  962996 ... 1123490 1123491 1123492]\n",
      "(1444489, 7) (160499, 7)\n"
     ]
    },
    {
     "name": "stderr",
     "output_type": "stream",
     "text": [
      "C:\\Anaconda3\\lib\\site-packages\\sklearn\\metrics\\_classification.py:1221: UndefinedMetricWarning: Recall and F-score are ill-defined and being set to 0.0 in labels with no true samples. Use `zero_division` parameter to control this behavior.\n",
      "  _warn_prf(average, modifier, msg_start, len(result))\n"
     ]
    },
    {
     "name": "stdout",
     "output_type": "stream",
     "text": [
      "TRAIN: [      0       1       2 ... 1604985 1604986 1604987] TEST: [1123493 1123494 1123495 ... 1283989 1283990 1283991]\n",
      "(1444489, 7) (160499, 7)\n"
     ]
    },
    {
     "name": "stderr",
     "output_type": "stream",
     "text": [
      "C:\\Anaconda3\\lib\\site-packages\\sklearn\\metrics\\_classification.py:1221: UndefinedMetricWarning: Recall and F-score are ill-defined and being set to 0.0 in labels with no true samples. Use `zero_division` parameter to control this behavior.\n",
      "  _warn_prf(average, modifier, msg_start, len(result))\n"
     ]
    },
    {
     "name": "stdout",
     "output_type": "stream",
     "text": [
      "TRAIN: [      0       1       2 ... 1604985 1604986 1604987] TEST: [1283992 1283993 1283994 ... 1444487 1444488 1444489]\n",
      "(1444490, 7) (160498, 7)\n"
     ]
    },
    {
     "name": "stderr",
     "output_type": "stream",
     "text": [
      "C:\\Anaconda3\\lib\\site-packages\\sklearn\\metrics\\_classification.py:1221: UndefinedMetricWarning: Recall and F-score are ill-defined and being set to 0.0 in labels with no true samples. Use `zero_division` parameter to control this behavior.\n",
      "  _warn_prf(average, modifier, msg_start, len(result))\n"
     ]
    },
    {
     "name": "stdout",
     "output_type": "stream",
     "text": [
      "TRAIN: [      0       1       2 ... 1444487 1444488 1444489] TEST: [1444490 1444491 1444492 ... 1604985 1604986 1604987]\n",
      "(1444490, 7) (160498, 7)\n",
      "0.6465873947821708\n",
      "0.5615762538281481\n",
      "0.5444426129743546\n",
      "0.47711302189603816\n"
     ]
    },
    {
     "name": "stderr",
     "output_type": "stream",
     "text": [
      "C:\\Anaconda3\\lib\\site-packages\\sklearn\\metrics\\_classification.py:1221: UndefinedMetricWarning: Recall and F-score are ill-defined and being set to 0.0 in labels with no true samples. Use `zero_division` parameter to control this behavior.\n",
      "  _warn_prf(average, modifier, msg_start, len(result))\n"
     ]
    }
   ],
   "source": [
    "from sklearn.ensemble import RandomForestClassifier\n",
    "accuracy=0\n",
    "precision=0\n",
    "recall=0\n",
    "f_score=0\n",
    "for train_index, test_index in kf10.split(x,y):\n",
    "    print(\"TRAIN:\", train_index, \"TEST:\", test_index)\n",
    "    X_train, X_test = x[train_index], x[test_index]\n",
    "    y_train, y_test = y[train_index], y[test_index]\n",
    "    print(X_train.shape, X_test.shape)\n",
    "    logistic=LogisticRegression()\n",
    "    logistic.fit(X_train,y_train)\n",
    "    pred=logistic.predict(X_test)\n",
    "    acc=accuracy_score(pred,y_test)\n",
    "    accuracy=accuracy+acc\n",
    "    confusion_matrix(pred,y_test)\n",
    "    a,b,c,d=precision_recall_fscore_support(y_test, pred, average='macro')\n",
    "    precision=precision+a\n",
    "    recall=recall+b\n",
    "    f_score=f_score+c\n",
    "print(accuracy/10)\n",
    "print(precision/10)\n",
    "print(recall/10)\n",
    "print(f_score/10)"
   ]
  },
  {
   "cell_type": "markdown",
   "metadata": {},
   "source": [
    "### 2 fold"
   ]
  },
  {
   "cell_type": "code",
   "execution_count": 65,
   "metadata": {},
   "outputs": [
    {
     "name": "stdout",
     "output_type": "stream",
     "text": [
      "TRAIN: [ 802494  802495  802496 ... 1604985 1604986 1604987] TEST: [     0      1      2 ... 802491 802492 802493]\n",
      "(802494, 7) (802494, 7)\n",
      "acc:  0.18902695845701026\n",
      "TRAIN: [     0      1      2 ... 802491 802492 802493] TEST: [ 802494  802495  802496 ... 1604985 1604986 1604987]\n",
      "(802494, 7) (802494, 7)\n",
      "acc:  0.15012448691205169\n",
      "0.16957572268453097\n",
      "0.5406415430255442\n",
      "0.5469856657561023\n",
      "0.1690629181503984\n"
     ]
    }
   ],
   "source": [
    "from sklearn.ensemble import RandomForestClassifier\n",
    "accuracy=0\n",
    "precision=0\n",
    "recall=0\n",
    "f_score=0\n",
    "for train_index, test_index in kf2.split(x,y):\n",
    "    print(\"TRAIN:\", train_index, \"TEST:\", test_index)\n",
    "    X_train, X_test = x[train_index], x[test_index]\n",
    "    y_train, y_test = y[train_index], y[test_index]\n",
    "    print(X_train.shape, X_test.shape)\n",
    "    logistic=LogisticRegression()\n",
    "    logistic.fit(X_train,y_train)\n",
    "    pred=logistic.predict(X_test)\n",
    "    acc=accuracy_score(pred,y_test)\n",
    "    print('acc: ',acc)\n",
    "    accuracy=accuracy+acc\n",
    "    confusion_matrix(pred,y_test)\n",
    "    a,b,c,d=precision_recall_fscore_support(y_test, pred, average='macro')\n",
    "    precision=precision+a\n",
    "    recall=recall+b\n",
    "    f_score=f_score+c\n",
    "print(accuracy/2)\n",
    "print(precision/2)\n",
    "print(recall/2)\n",
    "print(f_score/2)"
   ]
  },
  {
   "cell_type": "markdown",
   "metadata": {},
   "source": [
    "### 3 fold"
   ]
  },
  {
   "cell_type": "code",
   "execution_count": 66,
   "metadata": {},
   "outputs": [
    {
     "name": "stdout",
     "output_type": "stream",
     "text": [
      "TRAIN: [ 534996  534997  534998 ... 1604985 1604986 1604987] TEST: [     0      1      2 ... 534993 534994 534995]\n",
      "(1069992, 7) (534996, 7)\n",
      "TRAIN: [      0       1       2 ... 1604985 1604986 1604987] TEST: [ 534996  534997  534998 ... 1069989 1069990 1069991]\n",
      "(1069992, 7) (534996, 7)\n",
      "TRAIN: [      0       1       2 ... 1069989 1069990 1069991] TEST: [1069992 1069993 1069994 ... 1604985 1604986 1604987]\n",
      "(1069992, 7) (534996, 7)\n",
      "0.39795936168993157\n",
      "0.5647191676799221\n",
      "0.46123993947261616\n",
      "0.36364877355535286\n"
     ]
    },
    {
     "name": "stderr",
     "output_type": "stream",
     "text": [
      "C:\\Anaconda3\\lib\\site-packages\\sklearn\\metrics\\_classification.py:1221: UndefinedMetricWarning: Recall and F-score are ill-defined and being set to 0.0 in labels with no true samples. Use `zero_division` parameter to control this behavior.\n",
      "  _warn_prf(average, modifier, msg_start, len(result))\n"
     ]
    }
   ],
   "source": [
    "from sklearn.ensemble import RandomForestClassifier\n",
    "accuracy=0\n",
    "precision=0\n",
    "recall=0\n",
    "f_score=0\n",
    "for train_index, test_index in kf3.split(x,y):\n",
    "    print(\"TRAIN:\", train_index, \"TEST:\", test_index)\n",
    "    X_train, X_test = x[train_index], x[test_index]\n",
    "    y_train, y_test = y[train_index], y[test_index]\n",
    "    print(X_train.shape, X_test.shape)\n",
    "    logistic=LogisticRegression()\n",
    "    logistic.fit(X_train,y_train)\n",
    "    pred=logistic.predict(X_test)\n",
    "    acc=accuracy_score(pred,y_test)\n",
    "    accuracy=accuracy+acc\n",
    "    confusion_matrix(pred,y_test)\n",
    "    a,b,c,d=precision_recall_fscore_support(y_test, pred, average='macro')\n",
    "    precision=precision+a\n",
    "    recall=recall+b\n",
    "    f_score=f_score+c\n",
    "print(accuracy/3)\n",
    "print(precision/3)\n",
    "print(recall/3)\n",
    "print(f_score/3)"
   ]
  },
  {
   "cell_type": "markdown",
   "metadata": {},
   "source": [
    "### 5 fold"
   ]
  },
  {
   "cell_type": "code",
   "execution_count": 67,
   "metadata": {},
   "outputs": [
    {
     "name": "stdout",
     "output_type": "stream",
     "text": [
      "TRAIN: [ 320998  320999  321000 ... 1604985 1604986 1604987] TEST: [     0      1      2 ... 320995 320996 320997]\n",
      "(1283990, 7) (320998, 7)\n",
      "TRAIN: [      0       1       2 ... 1604985 1604986 1604987] TEST: [320998 320999 321000 ... 641993 641994 641995]\n",
      "(1283990, 7) (320998, 7)\n",
      "TRAIN: [      0       1       2 ... 1604985 1604986 1604987] TEST: [641996 641997 641998 ... 962991 962992 962993]\n",
      "(1283990, 7) (320998, 7)\n",
      "TRAIN: [      0       1       2 ... 1604985 1604986 1604987] TEST: [ 962994  962995  962996 ... 1283988 1283989 1283990]\n",
      "(1283991, 7) (320997, 7)\n"
     ]
    },
    {
     "name": "stderr",
     "output_type": "stream",
     "text": [
      "C:\\Anaconda3\\lib\\site-packages\\sklearn\\metrics\\_classification.py:1221: UndefinedMetricWarning: Recall and F-score are ill-defined and being set to 0.0 in labels with no true samples. Use `zero_division` parameter to control this behavior.\n",
      "  _warn_prf(average, modifier, msg_start, len(result))\n"
     ]
    },
    {
     "name": "stdout",
     "output_type": "stream",
     "text": [
      "TRAIN: [      0       1       2 ... 1283988 1283989 1283990] TEST: [1283991 1283992 1283993 ... 1604985 1604986 1604987]\n",
      "(1283991, 7) (320997, 7)\n",
      "0.5367884672787459\n",
      "0.5640702381218644\n",
      "0.5058745473833121\n",
      "0.42453806603452654\n"
     ]
    },
    {
     "name": "stderr",
     "output_type": "stream",
     "text": [
      "C:\\Anaconda3\\lib\\site-packages\\sklearn\\metrics\\_classification.py:1221: UndefinedMetricWarning: Recall and F-score are ill-defined and being set to 0.0 in labels with no true samples. Use `zero_division` parameter to control this behavior.\n",
      "  _warn_prf(average, modifier, msg_start, len(result))\n"
     ]
    }
   ],
   "source": [
    "from sklearn.ensemble import RandomForestClassifier\n",
    "accuracy=0\n",
    "precision=0\n",
    "recall=0\n",
    "f_score=0\n",
    "for train_index, test_index in kf5.split(x,y):\n",
    "    print(\"TRAIN:\", train_index, \"TEST:\", test_index)\n",
    "    X_train, X_test = x[train_index], x[test_index]\n",
    "    y_train, y_test = y[train_index], y[test_index]\n",
    "    print(X_train.shape, X_test.shape)\n",
    "    logistic=LogisticRegression()\n",
    "    logistic.fit(X_train,y_train)\n",
    "    pred=logistic.predict(X_test)\n",
    "    acc=accuracy_score(pred,y_test)\n",
    "    accuracy=accuracy+acc\n",
    "    confusion_matrix(pred,y_test)\n",
    "    a,b,c,d=precision_recall_fscore_support(y_test, pred, average='macro')\n",
    "    precision=precision+a\n",
    "    recall=recall+b\n",
    "    f_score=f_score+c\n",
    "print(accuracy/5)\n",
    "print(precision/5)\n",
    "print(recall/5)\n",
    "print(f_score/5)"
   ]
  },
  {
   "cell_type": "code",
   "execution_count": 68,
   "metadata": {},
   "outputs": [
    {
     "name": "stdout",
     "output_type": "stream",
     "text": [
      "TRAIN: [  46980   46981   46982 ... 1604985 1604986 1604987] TEST: [     0      1      2 ... 324326 324337 324349]\n",
      "(1524738, 7) (80250, 7)\n",
      "TRAIN: [      0       1       2 ... 1604985 1604986 1604987] TEST: [ 46980  46981  46982 ... 882741 882742 882743]\n",
      "(1524738, 7) (80250, 7)\n",
      "TRAIN: [      0       1       2 ... 1604985 1604986 1604987] TEST: [ 92587  92588  92589 ... 922866 922867 922868]\n",
      "(1524738, 7) (80250, 7)\n",
      "TRAIN: [      0       1       2 ... 1604985 1604986 1604987] TEST: [139016 139017 139018 ... 962991 962992 962993]\n",
      "(1524738, 7) (80250, 7)\n",
      "TRAIN: [      0       1       2 ... 1604985 1604986 1604987] TEST: [ 186209  186210  186211 ... 1003116 1003117 1003118]\n",
      "(1524738, 7) (80250, 7)\n",
      "TRAIN: [      0       1       2 ... 1604985 1604986 1604987] TEST: [ 233542  233543  233544 ... 1043241 1043242 1043243]\n",
      "(1524738, 7) (80250, 7)\n",
      "TRAIN: [      0       1       2 ... 1604985 1604986 1604987] TEST: [ 276769  276770  276771 ... 1083366 1083367 1083368]\n",
      "(1524738, 7) (80250, 7)\n",
      "TRAIN: [      0       1       2 ... 1604985 1604986 1604987] TEST: [ 320658  320659  320660 ... 1123491 1123492 1123493]\n",
      "(1524738, 7) (80250, 7)\n",
      "TRAIN: [      0       1       2 ... 1604985 1604986 1604987] TEST: [ 365083  365085  365087 ... 1163615 1163616 1163617]\n",
      "(1524739, 7) (80249, 7)\n",
      "TRAIN: [      0       1       2 ... 1604985 1604986 1604987] TEST: [ 409943  409944  409945 ... 1203739 1203740 1203741]\n",
      "(1524739, 7) (80249, 7)\n",
      "TRAIN: [      0       1       2 ... 1604985 1604986 1604987] TEST: [ 454957  454958  454960 ... 1243863 1243864 1243865]\n",
      "(1524739, 7) (80249, 7)\n",
      "TRAIN: [      0       1       2 ... 1604985 1604986 1604987] TEST: [ 496313  496314  496315 ... 1283987 1283988 1283989]\n",
      "(1524739, 7) (80249, 7)\n",
      "TRAIN: [      0       1       2 ... 1604985 1604986 1604987] TEST: [ 536705  536706  536707 ... 1324111 1324112 1324113]\n",
      "(1524739, 7) (80249, 7)\n",
      "TRAIN: [      0       1       2 ... 1604985 1604986 1604987] TEST: [ 577168  577169  577170 ... 1364235 1364236 1364237]\n",
      "(1524739, 7) (80249, 7)\n",
      "TRAIN: [      0       1       2 ... 1604985 1604986 1604987] TEST: [ 617862  617863  617864 ... 1404360 1404361 1404362]\n",
      "(1524739, 7) (80249, 7)\n",
      "TRAIN: [      0       1       2 ... 1604985 1604986 1604987] TEST: [ 658769  658770  658771 ... 1444485 1444486 1444487]\n",
      "(1524739, 7) (80249, 7)\n",
      "TRAIN: [      0       1       2 ... 1604985 1604986 1604987] TEST: [ 700153  700154  700155 ... 1484610 1484611 1484612]\n",
      "(1524739, 7) (80249, 7)\n",
      "TRAIN: [      0       1       2 ... 1604985 1604986 1604987] TEST: [ 741854  741855  741856 ... 1524735 1524736 1524737]\n",
      "(1524739, 7) (80249, 7)\n",
      "TRAIN: [      0       1       2 ... 1604985 1604986 1604987] TEST: [ 783775  783776  783777 ... 1564860 1564861 1564862]\n",
      "(1524739, 7) (80249, 7)\n",
      "TRAIN: [      0       1       2 ... 1564860 1564861 1564862] TEST: [ 826147  826148  826149 ... 1604985 1604986 1604987]\n",
      "(1524739, 7) (80249, 7)\n",
      "0.7370070274262013\n",
      "0.7386418119549484\n",
      "0.737007123074233\n",
      "0.730329473544406\n"
     ]
    }
   ],
   "source": [
    "kf20 = StratifiedKFold(n_splits=20)\n",
    "from sklearn.ensemble import RandomForestClassifier\n",
    "accuracy=0\n",
    "precision=0\n",
    "recall=0\n",
    "f_score=0\n",
    "for train_index, test_index in kf20.split(x,y):\n",
    "    print(\"TRAIN:\", train_index, \"TEST:\", test_index)\n",
    "    X_train, X_test = x[train_index], x[test_index]\n",
    "    y_train, y_test = y[train_index], y[test_index]\n",
    "    print(X_train.shape, X_test.shape)\n",
    "    logistic=LogisticRegression()\n",
    "    logistic.fit(X_train,y_train)\n",
    "    pred=logistic.predict(X_test)\n",
    "    acc=accuracy_score(pred,y_test)\n",
    "    accuracy=accuracy+acc\n",
    "    confusion_matrix(pred,y_test)\n",
    "    a,b,c,d=precision_recall_fscore_support(y_test, pred, average='macro')\n",
    "    precision=precision+a\n",
    "    recall=recall+b\n",
    "    f_score=f_score+c\n",
    "print(accuracy/20)\n",
    "print(precision/20)\n",
    "print(recall/20)\n",
    "print(f_score/20)"
   ]
  },
  {
   "cell_type": "code",
   "execution_count": 69,
   "metadata": {},
   "outputs": [
    {
     "name": "stdout",
     "output_type": "stream",
     "text": [
      "TRAIN: [  18941   18942   18943 ... 1604985 1604986 1604987] TEST: [     0      1      2 ... 120809 120818 120821]\n",
      "(1572888, 7) (32100, 7)\n",
      "TRAIN: [      0       1       2 ... 1604985 1604986 1604987] TEST: [ 18941  18942  18943 ... 226510 226512 226516]\n",
      "(1572888, 7) (32100, 7)\n",
      "TRAIN: [      0       1       2 ... 1604985 1604986 1604987] TEST: [ 37351  37352  37353 ... 404478 404488 404500]\n",
      "(1572888, 7) (32100, 7)\n",
      "TRAIN: [      0       1       2 ... 1604985 1604986 1604987] TEST: [ 56058  56059  56060 ... 833304 833316 833319]\n",
      "(1572888, 7) (32100, 7)\n",
      "TRAIN: [      0       1       2 ... 1604985 1604986 1604987] TEST: [ 74231  74232  74233 ... 882741 882742 882743]\n",
      "(1572888, 7) (32100, 7)\n",
      "TRAIN: [      0       1       2 ... 1604985 1604986 1604987] TEST: [ 92587  92588  92589 ... 898791 898792 898793]\n",
      "(1572888, 7) (32100, 7)\n",
      "TRAIN: [      0       1       2 ... 1604985 1604986 1604987] TEST: [111036 111037 111038 ... 914841 914842 914843]\n",
      "(1572888, 7) (32100, 7)\n",
      "TRAIN: [      0       1       2 ... 1604985 1604986 1604987] TEST: [129640 129641 129642 ... 930891 930892 930893]\n",
      "(1572888, 7) (32100, 7)\n",
      "TRAIN: [      0       1       2 ... 1604985 1604986 1604987] TEST: [148536 148537 148539 ... 946941 946942 946943]\n",
      "(1572888, 7) (32100, 7)\n",
      "TRAIN: [      0       1       2 ... 1604985 1604986 1604987] TEST: [167362 167363 167364 ... 962991 962992 962993]\n",
      "(1572888, 7) (32100, 7)\n",
      "TRAIN: [      0       1       2 ... 1604985 1604986 1604987] TEST: [186209 186210 186211 ... 979041 979042 979043]\n",
      "(1572888, 7) (32100, 7)\n",
      "TRAIN: [      0       1       2 ... 1604985 1604986 1604987] TEST: [205148 205149 205150 ... 995091 995092 995093]\n",
      "(1572888, 7) (32100, 7)\n",
      "TRAIN: [      0       1       2 ... 1604985 1604986 1604987] TEST: [ 224394  224395  224396 ... 1011141 1011142 1011143]\n",
      "(1572888, 7) (32100, 7)\n",
      "TRAIN: [      0       1       2 ... 1604985 1604986 1604987] TEST: [ 242133  242134  242135 ... 1027191 1027192 1027193]\n",
      "(1572888, 7) (32100, 7)\n",
      "TRAIN: [      0       1       2 ... 1604985 1604986 1604987] TEST: [ 259468  259469  259470 ... 1043241 1043242 1043243]\n",
      "(1572888, 7) (32100, 7)\n",
      "TRAIN: [      0       1       2 ... 1604985 1604986 1604987] TEST: [ 276769  276770  276771 ... 1059291 1059292 1059293]\n",
      "(1572888, 7) (32100, 7)\n",
      "TRAIN: [      0       1       2 ... 1604985 1604986 1604987] TEST: [ 294285  294286  294287 ... 1075341 1075342 1075343]\n",
      "(1572888, 7) (32100, 7)\n",
      "TRAIN: [      0       1       2 ... 1604985 1604986 1604987] TEST: [ 311871  311872  311873 ... 1091391 1091392 1091393]\n",
      "(1572888, 7) (32100, 7)\n",
      "TRAIN: [      0       1       2 ... 1604985 1604986 1604987] TEST: [ 329517  329518  329519 ... 1107441 1107442 1107443]\n",
      "(1572888, 7) (32100, 7)\n",
      "TRAIN: [      0       1       2 ... 1604985 1604986 1604987] TEST: [ 347178  347179  347180 ... 1123491 1123492 1123493]\n",
      "(1572888, 7) (32100, 7)\n",
      "TRAIN: [      0       1       2 ... 1604985 1604986 1604987] TEST: [ 365083  365085  365087 ... 1139541 1139542 1139543]\n",
      "(1572888, 7) (32100, 7)\n",
      "TRAIN: [      0       1       2 ... 1604985 1604986 1604987] TEST: [ 382927  382928  382929 ... 1155591 1155592 1155593]\n",
      "(1572888, 7) (32100, 7)\n",
      "TRAIN: [      0       1       2 ... 1604985 1604986 1604987] TEST: [ 400874  400875  400876 ... 1171641 1171642 1171643]\n",
      "(1572888, 7) (32100, 7)\n",
      "TRAIN: [      0       1       2 ... 1604985 1604986 1604987] TEST: [ 418905  418906  418907 ... 1187691 1187692 1187693]\n",
      "(1572888, 7) (32100, 7)\n",
      "TRAIN: [      0       1       2 ... 1604985 1604986 1604987] TEST: [ 436957  436958  436959 ... 1203741 1203742 1203743]\n",
      "(1572888, 7) (32100, 7)\n",
      "TRAIN: [      0       1       2 ... 1604985 1604986 1604987] TEST: [ 454957  454958  454960 ... 1219791 1219792 1219793]\n",
      "(1572888, 7) (32100, 7)\n",
      "TRAIN: [      0       1       2 ... 1604985 1604986 1604987] TEST: [ 472228  472229  472230 ... 1235841 1235842 1235843]\n",
      "(1572888, 7) (32100, 7)\n",
      "TRAIN: [      0       1       2 ... 1604985 1604986 1604987] TEST: [ 488282  488283  488284 ... 1251891 1251892 1251893]\n",
      "(1572888, 7) (32100, 7)\n",
      "TRAIN: [      0       1       2 ... 1604985 1604986 1604987] TEST: [ 504376  504377  504378 ... 1267941 1267942 1267943]\n",
      "(1572888, 7) (32100, 7)\n",
      "TRAIN: [      0       1       2 ... 1604985 1604986 1604987] TEST: [ 520576  520577  520578 ... 1283991 1283992 1283993]\n",
      "(1572888, 7) (32100, 7)\n",
      "TRAIN: [      0       1       2 ... 1604985 1604986 1604987] TEST: [ 536705  536706  536707 ... 1300041 1300042 1300043]\n",
      "(1572888, 7) (32100, 7)\n",
      "TRAIN: [      0       1       2 ... 1604985 1604986 1604987] TEST: [ 552858  552859  552860 ... 1316091 1316092 1316093]\n",
      "(1572888, 7) (32100, 7)\n",
      "TRAIN: [      0       1       2 ... 1604985 1604986 1604987] TEST: [ 569083  569084  569085 ... 1332141 1332142 1332143]\n",
      "(1572888, 7) (32100, 7)\n",
      "TRAIN: [      0       1       2 ... 1604985 1604986 1604987] TEST: [ 585265  585266  585267 ... 1348191 1348192 1348193]\n",
      "(1572888, 7) (32100, 7)\n",
      "TRAIN: [      0       1       2 ... 1604985 1604986 1604987] TEST: [ 601594  601595  601596 ... 1364241 1364242 1364243]\n",
      "(1572888, 7) (32100, 7)\n",
      "TRAIN: [      0       1       2 ... 1604985 1604986 1604987] TEST: [ 617862  617863  617864 ... 1380291 1380292 1380293]\n",
      "(1572888, 7) (32100, 7)\n",
      "TRAIN: [      0       1       2 ... 1604985 1604986 1604987] TEST: [ 634236  634237  634238 ... 1396341 1396342 1396343]\n",
      "(1572888, 7) (32100, 7)\n",
      "TRAIN: [      0       1       2 ... 1604985 1604986 1604987] TEST: [ 650569  650570  650571 ... 1412391 1412392 1412393]\n",
      "(1572888, 7) (32100, 7)\n",
      "TRAIN: [      0       1       2 ... 1604985 1604986 1604987] TEST: [ 667011  667012  667013 ... 1428440 1428441 1428442]\n",
      "(1572889, 7) (32099, 7)\n",
      "TRAIN: [      0       1       2 ... 1604985 1604986 1604987] TEST: [ 683577  683578  683579 ... 1444489 1444490 1444491]\n",
      "(1572889, 7) (32099, 7)\n",
      "TRAIN: [      0       1       2 ... 1604985 1604986 1604987] TEST: [ 700155  700156  700157 ... 1460538 1460539 1460540]\n",
      "(1572889, 7) (32099, 7)\n",
      "TRAIN: [      0       1       2 ... 1604985 1604986 1604987] TEST: [ 716786  716787  716788 ... 1476587 1476588 1476589]\n",
      "(1572889, 7) (32099, 7)\n",
      "TRAIN: [      0       1       2 ... 1604985 1604986 1604987] TEST: [ 733434  733435  733436 ... 1492636 1492637 1492638]\n",
      "(1572889, 7) (32099, 7)\n",
      "TRAIN: [      0       1       2 ... 1604985 1604986 1604987] TEST: [ 750184  750185  750186 ... 1508685 1508686 1508687]\n",
      "(1572889, 7) (32099, 7)\n",
      "TRAIN: [      0       1       2 ... 1604985 1604986 1604987] TEST: [ 766943  766944  766945 ... 1524735 1524736 1524737]\n",
      "(1572889, 7) (32099, 7)\n",
      "TRAIN: [      0       1       2 ... 1604985 1604986 1604987] TEST: [ 783778  783779  783780 ... 1540785 1540786 1540787]\n",
      "(1572889, 7) (32099, 7)\n",
      "TRAIN: [      0       1       2 ... 1604985 1604986 1604987] TEST: [ 800718  800720  800721 ... 1556835 1556836 1556837]\n",
      "(1572889, 7) (32099, 7)\n",
      "TRAIN: [      0       1       2 ... 1604985 1604986 1604987] TEST: [ 817603  817604  817606 ... 1572885 1572886 1572887]\n",
      "(1572889, 7) (32099, 7)\n",
      "TRAIN: [      0       1       2 ... 1604985 1604986 1604987] TEST: [ 834661  834662  834663 ... 1588935 1588936 1588937]\n",
      "(1572889, 7) (32099, 7)\n",
      "TRAIN: [      0       1       2 ... 1588935 1588936 1588937] TEST: [ 851693  851694  851695 ... 1604985 1604986 1604987]\n",
      "(1572889, 7) (32099, 7)\n",
      "0.743430277338052\n",
      "0.7444691001841354\n",
      "0.7434304096741111\n",
      "0.7378187264674247\n"
     ]
    }
   ],
   "source": [
    "kf50 = StratifiedKFold(n_splits=50)\n",
    "from sklearn.ensemble import RandomForestClassifier\n",
    "accuracy=0\n",
    "precision=0\n",
    "recall=0\n",
    "f_score=0\n",
    "for train_index, test_index in kf50.split(x,y):\n",
    "    print(\"TRAIN:\", train_index, \"TEST:\", test_index)\n",
    "    X_train, X_test = x[train_index], x[test_index]\n",
    "    y_train, y_test = y[train_index], y[test_index]\n",
    "    print(X_train.shape, X_test.shape)\n",
    "    logistic=LogisticRegression()\n",
    "    logistic.fit(X_train,y_train)\n",
    "    pred=logistic.predict(X_test)\n",
    "    acc=accuracy_score(pred,y_test)\n",
    "    accuracy=accuracy+acc\n",
    "    confusion_matrix(pred,y_test)\n",
    "    a,b,c,d=precision_recall_fscore_support(y_test, pred, average='macro')\n",
    "    precision=precision+a\n",
    "    recall=recall+b\n",
    "    f_score=f_score+c\n",
    "print(accuracy/50)\n",
    "print(precision/50)\n",
    "print(recall/50)\n",
    "print(f_score/50)"
   ]
  },
  {
   "cell_type": "code",
   "execution_count": null,
   "metadata": {},
   "outputs": [],
   "source": []
  }
 ],
 "metadata": {
  "kernelspec": {
   "display_name": "Python 3",
   "language": "python",
   "name": "python3"
  },
  "language_info": {
   "codemirror_mode": {
    "name": "ipython",
    "version": 3
   },
   "file_extension": ".py",
   "mimetype": "text/x-python",
   "name": "python",
   "nbconvert_exporter": "python",
   "pygments_lexer": "ipython3",
   "version": "3.6.5"
  }
 },
 "nbformat": 4,
 "nbformat_minor": 2
}
