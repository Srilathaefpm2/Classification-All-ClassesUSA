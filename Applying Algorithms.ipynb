{
 "cells": [
  {
   "cell_type": "code",
   "execution_count": 26,
   "metadata": {},
   "outputs": [],
   "source": [
    "import numpy as np, pandas as pd, matplotlib.pyplot as plt\n",
    "import seaborn as sns"
   ]
  },
  {
   "cell_type": "code",
   "execution_count": 27,
   "metadata": {},
   "outputs": [
    {
     "data": {
      "text/html": [
       "<div>\n",
       "<style scoped>\n",
       "    .dataframe tbody tr th:only-of-type {\n",
       "        vertical-align: middle;\n",
       "    }\n",
       "\n",
       "    .dataframe tbody tr th {\n",
       "        vertical-align: top;\n",
       "    }\n",
       "\n",
       "    .dataframe thead th {\n",
       "        text-align: right;\n",
       "    }\n",
       "</style>\n",
       "<table border=\"1\" class=\"dataframe\">\n",
       "  <thead>\n",
       "    <tr style=\"text-align: right;\">\n",
       "      <th></th>\n",
       "      <th>id</th>\n",
       "      <th>year</th>\n",
       "      <th>issue_d</th>\n",
       "      <th>final_d</th>\n",
       "      <th>emp_length_int</th>\n",
       "      <th>home_ownership</th>\n",
       "      <th>home_ownership_cat</th>\n",
       "      <th>income_category</th>\n",
       "      <th>annual_inc</th>\n",
       "      <th>income_cat</th>\n",
       "      <th>...</th>\n",
       "      <th>loan_condition_cat</th>\n",
       "      <th>interest_rate</th>\n",
       "      <th>grade</th>\n",
       "      <th>grade_cat</th>\n",
       "      <th>dti</th>\n",
       "      <th>total_pymnt</th>\n",
       "      <th>total_rec_prncp</th>\n",
       "      <th>recoveries</th>\n",
       "      <th>installment</th>\n",
       "      <th>region</th>\n",
       "    </tr>\n",
       "  </thead>\n",
       "  <tbody>\n",
       "    <tr>\n",
       "      <th>0</th>\n",
       "      <td>1077501</td>\n",
       "      <td>2011</td>\n",
       "      <td>01/12/2011</td>\n",
       "      <td>1012015</td>\n",
       "      <td>10.0</td>\n",
       "      <td>RENT</td>\n",
       "      <td>1</td>\n",
       "      <td>Low</td>\n",
       "      <td>24000</td>\n",
       "      <td>1</td>\n",
       "      <td>...</td>\n",
       "      <td>0</td>\n",
       "      <td>10.65</td>\n",
       "      <td>B</td>\n",
       "      <td>2</td>\n",
       "      <td>27.65</td>\n",
       "      <td>5861.071414</td>\n",
       "      <td>5000.00</td>\n",
       "      <td>0.00</td>\n",
       "      <td>162.87</td>\n",
       "      <td>munster</td>\n",
       "    </tr>\n",
       "    <tr>\n",
       "      <th>1</th>\n",
       "      <td>1077430</td>\n",
       "      <td>2011</td>\n",
       "      <td>01/12/2011</td>\n",
       "      <td>1042013</td>\n",
       "      <td>0.5</td>\n",
       "      <td>RENT</td>\n",
       "      <td>1</td>\n",
       "      <td>Low</td>\n",
       "      <td>30000</td>\n",
       "      <td>1</td>\n",
       "      <td>...</td>\n",
       "      <td>1</td>\n",
       "      <td>15.27</td>\n",
       "      <td>C</td>\n",
       "      <td>3</td>\n",
       "      <td>1.00</td>\n",
       "      <td>1008.710000</td>\n",
       "      <td>456.46</td>\n",
       "      <td>117.08</td>\n",
       "      <td>59.83</td>\n",
       "      <td>leinster</td>\n",
       "    </tr>\n",
       "    <tr>\n",
       "      <th>2</th>\n",
       "      <td>1077175</td>\n",
       "      <td>2011</td>\n",
       "      <td>01/12/2011</td>\n",
       "      <td>1062014</td>\n",
       "      <td>10.0</td>\n",
       "      <td>RENT</td>\n",
       "      <td>1</td>\n",
       "      <td>Low</td>\n",
       "      <td>12252</td>\n",
       "      <td>1</td>\n",
       "      <td>...</td>\n",
       "      <td>0</td>\n",
       "      <td>15.96</td>\n",
       "      <td>C</td>\n",
       "      <td>3</td>\n",
       "      <td>8.72</td>\n",
       "      <td>3003.653644</td>\n",
       "      <td>2400.00</td>\n",
       "      <td>0.00</td>\n",
       "      <td>84.33</td>\n",
       "      <td>cannught</td>\n",
       "    </tr>\n",
       "    <tr>\n",
       "      <th>3</th>\n",
       "      <td>1076863</td>\n",
       "      <td>2011</td>\n",
       "      <td>01/12/2011</td>\n",
       "      <td>1012015</td>\n",
       "      <td>10.0</td>\n",
       "      <td>RENT</td>\n",
       "      <td>1</td>\n",
       "      <td>Low</td>\n",
       "      <td>49200</td>\n",
       "      <td>1</td>\n",
       "      <td>...</td>\n",
       "      <td>0</td>\n",
       "      <td>13.49</td>\n",
       "      <td>C</td>\n",
       "      <td>3</td>\n",
       "      <td>20.00</td>\n",
       "      <td>12226.302210</td>\n",
       "      <td>10000.00</td>\n",
       "      <td>0.00</td>\n",
       "      <td>339.31</td>\n",
       "      <td>ulster</td>\n",
       "    </tr>\n",
       "    <tr>\n",
       "      <th>4</th>\n",
       "      <td>1075358</td>\n",
       "      <td>2011</td>\n",
       "      <td>01/12/2011</td>\n",
       "      <td>1012016</td>\n",
       "      <td>1.0</td>\n",
       "      <td>RENT</td>\n",
       "      <td>1</td>\n",
       "      <td>Low</td>\n",
       "      <td>80000</td>\n",
       "      <td>1</td>\n",
       "      <td>...</td>\n",
       "      <td>0</td>\n",
       "      <td>12.69</td>\n",
       "      <td>B</td>\n",
       "      <td>2</td>\n",
       "      <td>17.94</td>\n",
       "      <td>3242.170000</td>\n",
       "      <td>2233.10</td>\n",
       "      <td>0.00</td>\n",
       "      <td>67.79</td>\n",
       "      <td>ulster</td>\n",
       "    </tr>\n",
       "  </tbody>\n",
       "</table>\n",
       "<p>5 rows × 30 columns</p>\n",
       "</div>"
      ],
      "text/plain": [
       "        id  year     issue_d  final_d  emp_length_int home_ownership  \\\n",
       "0  1077501  2011  01/12/2011  1012015            10.0           RENT   \n",
       "1  1077430  2011  01/12/2011  1042013             0.5           RENT   \n",
       "2  1077175  2011  01/12/2011  1062014            10.0           RENT   \n",
       "3  1076863  2011  01/12/2011  1012015            10.0           RENT   \n",
       "4  1075358  2011  01/12/2011  1012016             1.0           RENT   \n",
       "\n",
       "   home_ownership_cat income_category  annual_inc  income_cat    ...     \\\n",
       "0                   1             Low       24000           1    ...      \n",
       "1                   1             Low       30000           1    ...      \n",
       "2                   1             Low       12252           1    ...      \n",
       "3                   1             Low       49200           1    ...      \n",
       "4                   1             Low       80000           1    ...      \n",
       "\n",
       "   loan_condition_cat interest_rate  grade grade_cat    dti   total_pymnt  \\\n",
       "0                   0         10.65      B         2  27.65   5861.071414   \n",
       "1                   1         15.27      C         3   1.00   1008.710000   \n",
       "2                   0         15.96      C         3   8.72   3003.653644   \n",
       "3                   0         13.49      C         3  20.00  12226.302210   \n",
       "4                   0         12.69      B         2  17.94   3242.170000   \n",
       "\n",
       "   total_rec_prncp recoveries  installment    region  \n",
       "0          5000.00       0.00       162.87   munster  \n",
       "1           456.46     117.08        59.83  leinster  \n",
       "2          2400.00       0.00        84.33  cannught  \n",
       "3         10000.00       0.00       339.31    ulster  \n",
       "4          2233.10       0.00        67.79    ulster  \n",
       "\n",
       "[5 rows x 30 columns]"
      ]
     },
     "execution_count": 27,
     "metadata": {},
     "output_type": "execute_result"
    }
   ],
   "source": [
    "data=pd.read_csv('C:/Users/sai kiran/Downloads/loan_final313 - Copy.csv')\n",
    "data.head()"
   ]
  },
  {
   "cell_type": "markdown",
   "metadata": {},
   "source": [
    "## Feature Elimination\n",
    "### will remove all redundant features as both the columns such as 'home_ownership' and 'home_ownership_cat' mean the same\n",
    "### will remove features such as ''application_type_cat'' as they doesn't impact the target class (from visualisation)"
   ]
  },
  {
   "cell_type": "code",
   "execution_count": 28,
   "metadata": {},
   "outputs": [
    {
     "data": {
      "text/html": [
       "<div>\n",
       "<style scoped>\n",
       "    .dataframe tbody tr th:only-of-type {\n",
       "        vertical-align: middle;\n",
       "    }\n",
       "\n",
       "    .dataframe tbody tr th {\n",
       "        vertical-align: top;\n",
       "    }\n",
       "\n",
       "    .dataframe thead th {\n",
       "        text-align: right;\n",
       "    }\n",
       "</style>\n",
       "<table border=\"1\" class=\"dataframe\">\n",
       "  <thead>\n",
       "    <tr style=\"text-align: right;\">\n",
       "      <th></th>\n",
       "      <th>year</th>\n",
       "      <th>issue_d</th>\n",
       "      <th>final_d</th>\n",
       "      <th>emp_length_int</th>\n",
       "      <th>home_ownership_cat</th>\n",
       "      <th>income_cat</th>\n",
       "      <th>loan_amount</th>\n",
       "      <th>term_cat</th>\n",
       "      <th>purpose_cat</th>\n",
       "      <th>interest_payment_cat</th>\n",
       "      <th>loan_condition</th>\n",
       "      <th>interest_rate</th>\n",
       "      <th>grade_cat</th>\n",
       "      <th>installment</th>\n",
       "      <th>region</th>\n",
       "    </tr>\n",
       "  </thead>\n",
       "  <tbody>\n",
       "    <tr>\n",
       "      <th>0</th>\n",
       "      <td>2011</td>\n",
       "      <td>01/12/2011</td>\n",
       "      <td>1012015</td>\n",
       "      <td>10.0</td>\n",
       "      <td>1</td>\n",
       "      <td>1</td>\n",
       "      <td>5000</td>\n",
       "      <td>1</td>\n",
       "      <td>1</td>\n",
       "      <td>1</td>\n",
       "      <td>Good Loan</td>\n",
       "      <td>10.65</td>\n",
       "      <td>2</td>\n",
       "      <td>162.87</td>\n",
       "      <td>munster</td>\n",
       "    </tr>\n",
       "    <tr>\n",
       "      <th>1</th>\n",
       "      <td>2011</td>\n",
       "      <td>01/12/2011</td>\n",
       "      <td>1042013</td>\n",
       "      <td>0.5</td>\n",
       "      <td>1</td>\n",
       "      <td>1</td>\n",
       "      <td>2500</td>\n",
       "      <td>2</td>\n",
       "      <td>2</td>\n",
       "      <td>2</td>\n",
       "      <td>Bad Loan</td>\n",
       "      <td>15.27</td>\n",
       "      <td>3</td>\n",
       "      <td>59.83</td>\n",
       "      <td>leinster</td>\n",
       "    </tr>\n",
       "    <tr>\n",
       "      <th>2</th>\n",
       "      <td>2011</td>\n",
       "      <td>01/12/2011</td>\n",
       "      <td>1062014</td>\n",
       "      <td>10.0</td>\n",
       "      <td>1</td>\n",
       "      <td>1</td>\n",
       "      <td>2400</td>\n",
       "      <td>1</td>\n",
       "      <td>3</td>\n",
       "      <td>2</td>\n",
       "      <td>Good Loan</td>\n",
       "      <td>15.96</td>\n",
       "      <td>3</td>\n",
       "      <td>84.33</td>\n",
       "      <td>cannught</td>\n",
       "    </tr>\n",
       "    <tr>\n",
       "      <th>3</th>\n",
       "      <td>2011</td>\n",
       "      <td>01/12/2011</td>\n",
       "      <td>1012015</td>\n",
       "      <td>10.0</td>\n",
       "      <td>1</td>\n",
       "      <td>1</td>\n",
       "      <td>10000</td>\n",
       "      <td>1</td>\n",
       "      <td>4</td>\n",
       "      <td>2</td>\n",
       "      <td>Good Loan</td>\n",
       "      <td>13.49</td>\n",
       "      <td>3</td>\n",
       "      <td>339.31</td>\n",
       "      <td>ulster</td>\n",
       "    </tr>\n",
       "    <tr>\n",
       "      <th>4</th>\n",
       "      <td>2011</td>\n",
       "      <td>01/12/2011</td>\n",
       "      <td>1012016</td>\n",
       "      <td>1.0</td>\n",
       "      <td>1</td>\n",
       "      <td>1</td>\n",
       "      <td>3000</td>\n",
       "      <td>2</td>\n",
       "      <td>4</td>\n",
       "      <td>1</td>\n",
       "      <td>Good Loan</td>\n",
       "      <td>12.69</td>\n",
       "      <td>2</td>\n",
       "      <td>67.79</td>\n",
       "      <td>ulster</td>\n",
       "    </tr>\n",
       "  </tbody>\n",
       "</table>\n",
       "</div>"
      ],
      "text/plain": [
       "   year     issue_d  final_d  emp_length_int  home_ownership_cat  income_cat  \\\n",
       "0  2011  01/12/2011  1012015            10.0                   1           1   \n",
       "1  2011  01/12/2011  1042013             0.5                   1           1   \n",
       "2  2011  01/12/2011  1062014            10.0                   1           1   \n",
       "3  2011  01/12/2011  1012015            10.0                   1           1   \n",
       "4  2011  01/12/2011  1012016             1.0                   1           1   \n",
       "\n",
       "   loan_amount  term_cat  purpose_cat  interest_payment_cat loan_condition  \\\n",
       "0         5000         1            1                     1      Good Loan   \n",
       "1         2500         2            2                     2       Bad Loan   \n",
       "2         2400         1            3                     2      Good Loan   \n",
       "3        10000         1            4                     2      Good Loan   \n",
       "4         3000         2            4                     1      Good Loan   \n",
       "\n",
       "   interest_rate  grade_cat  installment    region  \n",
       "0          10.65          2       162.87   munster  \n",
       "1          15.27          3        59.83  leinster  \n",
       "2          15.96          3        84.33  cannught  \n",
       "3          13.49          3       339.31    ulster  \n",
       "4          12.69          2        67.79    ulster  "
      ]
     },
     "execution_count": 28,
     "metadata": {},
     "output_type": "execute_result"
    }
   ],
   "source": [
    "data.drop(['id','home_ownership','income_category','loan_condition_cat','total_pymnt','annual_inc','total_rec_prncp','term','application_type','purpose','interest_payments','grade','dti','application_type_cat','recoveries'],axis=1,inplace=True)\n",
    "data.head()"
   ]
  },
  {
   "cell_type": "markdown",
   "metadata": {},
   "source": [
    "### Handling categorical values"
   ]
  },
  {
   "cell_type": "code",
   "execution_count": 29,
   "metadata": {},
   "outputs": [
    {
     "data": {
      "text/plain": [
       "leinster        214646\n",
       "ulster          208731\n",
       "Northern-Irl    204399\n",
       "cannught        155029\n",
       "munster         104574\n",
       "Name: region, dtype: int64"
      ]
     },
     "execution_count": 29,
     "metadata": {},
     "output_type": "execute_result"
    }
   ],
   "source": [
    "data['region'].value_counts()"
   ]
  },
  {
   "cell_type": "code",
   "execution_count": 30,
   "metadata": {},
   "outputs": [],
   "source": [
    "data['region'].replace('leinster',0,inplace=True)\n",
    "data['region'].replace('ulster',1,inplace=True)\n",
    "data['region'].replace('Northern-Irl',2,inplace=True)\n",
    "data['region'].replace('cannught',3,inplace=True)\n",
    "data['region'].replace('munster',4,inplace=True)"
   ]
  },
  {
   "cell_type": "code",
   "execution_count": 31,
   "metadata": {},
   "outputs": [
    {
     "data": {
      "text/plain": [
       "0    214646\n",
       "1    208731\n",
       "2    204399\n",
       "3    155029\n",
       "4    104574\n",
       "Name: region, dtype: int64"
      ]
     },
     "execution_count": 31,
     "metadata": {},
     "output_type": "execute_result"
    }
   ],
   "source": [
    "data['region'].value_counts()"
   ]
  },
  {
   "cell_type": "code",
   "execution_count": 32,
   "metadata": {},
   "outputs": [
    {
     "data": {
      "text/plain": [
       "2015    421094\n",
       "2014    235628\n",
       "2013    134755\n",
       "2012     53367\n",
       "2011     21721\n",
       "2010     12537\n",
       "2009      5281\n",
       "2008      2393\n",
       "2007       603\n",
       "Name: year, dtype: int64"
      ]
     },
     "execution_count": 32,
     "metadata": {},
     "output_type": "execute_result"
    }
   ],
   "source": [
    "data['year'].value_counts()"
   ]
  },
  {
   "cell_type": "code",
   "execution_count": 33,
   "metadata": {},
   "outputs": [],
   "source": [
    "### Creating New Features  length=issue_d - final_d"
   ]
  },
  {
   "cell_type": "code",
   "execution_count": null,
   "metadata": {},
   "outputs": [],
   "source": [
    "\n"
   ]
  },
  {
   "cell_type": "code",
   "execution_count": 34,
   "metadata": {},
   "outputs": [],
   "source": [
    "data.drop(['issue_d','final_d'],axis=1,inplace=True)"
   ]
  },
  {
   "cell_type": "markdown",
   "metadata": {},
   "source": [
    "### Applying Binning to Numerical features (from visualisation) "
   ]
  },
  {
   "cell_type": "code",
   "execution_count": 35,
   "metadata": {},
   "outputs": [],
   "source": [
    "bins=[0,2,8,11]\n",
    "labels=[0,1,2]\n",
    "data['emp_length_int']=pd.cut(data['emp_length_int'],bins=bins,labels=labels)"
   ]
  },
  {
   "cell_type": "code",
   "execution_count": 36,
   "metadata": {},
   "outputs": [
    {
     "data": {
      "text/plain": [
       "1    354583\n",
       "2    326226\n",
       "0    206570\n",
       "Name: emp_length_int, dtype: int64"
      ]
     },
     "execution_count": 36,
     "metadata": {},
     "output_type": "execute_result"
    }
   ],
   "source": [
    "data['emp_length_int'].value_counts()"
   ]
  },
  {
   "cell_type": "code",
   "execution_count": 37,
   "metadata": {},
   "outputs": [],
   "source": [
    "bins=[0,5000,20000,35000]\n",
    "labels=[0,1,2]\n",
    "data['loan_amount']=pd.cut(data['loan_amount'],bins=bins,labels=labels)"
   ]
  },
  {
   "cell_type": "code",
   "execution_count": 38,
   "metadata": {},
   "outputs": [
    {
     "data": {
      "text/plain": [
       "1    583862\n",
       "2    200837\n",
       "0    102680\n",
       "Name: loan_amount, dtype: int64"
      ]
     },
     "execution_count": 38,
     "metadata": {},
     "output_type": "execute_result"
    }
   ],
   "source": [
    "data['loan_amount'].value_counts()"
   ]
  },
  {
   "cell_type": "code",
   "execution_count": 39,
   "metadata": {},
   "outputs": [],
   "source": [
    "bins=[0,5,10,15,20,25,30]\n",
    "labels=[0,1,2,3,4,5]\n",
    "data['interest_rate']=pd.cut(data['interest_rate'],bins=bins,labels=labels)"
   ]
  },
  {
   "cell_type": "code",
   "execution_count": 40,
   "metadata": {},
   "outputs": [
    {
     "data": {
      "text/plain": [
       "2    372060\n",
       "1    235621\n",
       "3    221068\n",
       "4     52137\n",
       "5      6493\n",
       "0         0\n",
       "Name: interest_rate, dtype: int64"
      ]
     },
     "execution_count": 40,
     "metadata": {},
     "output_type": "execute_result"
    }
   ],
   "source": [
    "data['interest_rate'].value_counts()"
   ]
  },
  {
   "cell_type": "code",
   "execution_count": null,
   "metadata": {},
   "outputs": [],
   "source": []
  },
  {
   "cell_type": "code",
   "execution_count": null,
   "metadata": {},
   "outputs": [],
   "source": []
  },
  {
   "cell_type": "code",
   "execution_count": null,
   "metadata": {},
   "outputs": [],
   "source": []
  },
  {
   "cell_type": "code",
   "execution_count": null,
   "metadata": {},
   "outputs": [],
   "source": []
  },
  {
   "cell_type": "code",
   "execution_count": 41,
   "metadata": {},
   "outputs": [],
   "source": [
    "bins=[0,300,600,800,1200,1400]\n",
    "labels=[0,1,2,3,4]\n",
    "data['installment']=pd.cut(data['installment'],bins=bins,labels=labels)"
   ]
  },
  {
   "cell_type": "code",
   "execution_count": 42,
   "metadata": {},
   "outputs": [
    {
     "data": {
      "text/plain": [
       "1    397791\n",
       "0    288874\n",
       "2    120875\n",
       "3     73014\n",
       "4      6790\n",
       "Name: installment, dtype: int64"
      ]
     },
     "execution_count": 42,
     "metadata": {},
     "output_type": "execute_result"
    }
   ],
   "source": [
    "data['installment'].value_counts()"
   ]
  },
  {
   "cell_type": "code",
   "execution_count": 43,
   "metadata": {},
   "outputs": [
    {
     "data": {
      "text/html": [
       "<div>\n",
       "<style scoped>\n",
       "    .dataframe tbody tr th:only-of-type {\n",
       "        vertical-align: middle;\n",
       "    }\n",
       "\n",
       "    .dataframe tbody tr th {\n",
       "        vertical-align: top;\n",
       "    }\n",
       "\n",
       "    .dataframe thead th {\n",
       "        text-align: right;\n",
       "    }\n",
       "</style>\n",
       "<table border=\"1\" class=\"dataframe\">\n",
       "  <thead>\n",
       "    <tr style=\"text-align: right;\">\n",
       "      <th></th>\n",
       "      <th>year</th>\n",
       "      <th>emp_length_int</th>\n",
       "      <th>home_ownership_cat</th>\n",
       "      <th>income_cat</th>\n",
       "      <th>loan_amount</th>\n",
       "      <th>term_cat</th>\n",
       "      <th>purpose_cat</th>\n",
       "      <th>interest_payment_cat</th>\n",
       "      <th>loan_condition</th>\n",
       "      <th>interest_rate</th>\n",
       "      <th>grade_cat</th>\n",
       "      <th>installment</th>\n",
       "      <th>region</th>\n",
       "    </tr>\n",
       "  </thead>\n",
       "  <tbody>\n",
       "    <tr>\n",
       "      <th>0</th>\n",
       "      <td>2011</td>\n",
       "      <td>2</td>\n",
       "      <td>1</td>\n",
       "      <td>1</td>\n",
       "      <td>0</td>\n",
       "      <td>1</td>\n",
       "      <td>1</td>\n",
       "      <td>1</td>\n",
       "      <td>Good Loan</td>\n",
       "      <td>2</td>\n",
       "      <td>2</td>\n",
       "      <td>0</td>\n",
       "      <td>4</td>\n",
       "    </tr>\n",
       "    <tr>\n",
       "      <th>1</th>\n",
       "      <td>2011</td>\n",
       "      <td>0</td>\n",
       "      <td>1</td>\n",
       "      <td>1</td>\n",
       "      <td>0</td>\n",
       "      <td>2</td>\n",
       "      <td>2</td>\n",
       "      <td>2</td>\n",
       "      <td>Bad Loan</td>\n",
       "      <td>3</td>\n",
       "      <td>3</td>\n",
       "      <td>0</td>\n",
       "      <td>0</td>\n",
       "    </tr>\n",
       "    <tr>\n",
       "      <th>2</th>\n",
       "      <td>2011</td>\n",
       "      <td>2</td>\n",
       "      <td>1</td>\n",
       "      <td>1</td>\n",
       "      <td>0</td>\n",
       "      <td>1</td>\n",
       "      <td>3</td>\n",
       "      <td>2</td>\n",
       "      <td>Good Loan</td>\n",
       "      <td>3</td>\n",
       "      <td>3</td>\n",
       "      <td>0</td>\n",
       "      <td>3</td>\n",
       "    </tr>\n",
       "    <tr>\n",
       "      <th>3</th>\n",
       "      <td>2011</td>\n",
       "      <td>2</td>\n",
       "      <td>1</td>\n",
       "      <td>1</td>\n",
       "      <td>1</td>\n",
       "      <td>1</td>\n",
       "      <td>4</td>\n",
       "      <td>2</td>\n",
       "      <td>Good Loan</td>\n",
       "      <td>2</td>\n",
       "      <td>3</td>\n",
       "      <td>1</td>\n",
       "      <td>1</td>\n",
       "    </tr>\n",
       "    <tr>\n",
       "      <th>4</th>\n",
       "      <td>2011</td>\n",
       "      <td>0</td>\n",
       "      <td>1</td>\n",
       "      <td>1</td>\n",
       "      <td>0</td>\n",
       "      <td>2</td>\n",
       "      <td>4</td>\n",
       "      <td>1</td>\n",
       "      <td>Good Loan</td>\n",
       "      <td>2</td>\n",
       "      <td>2</td>\n",
       "      <td>0</td>\n",
       "      <td>1</td>\n",
       "    </tr>\n",
       "  </tbody>\n",
       "</table>\n",
       "</div>"
      ],
      "text/plain": [
       "   year emp_length_int  home_ownership_cat  income_cat loan_amount  term_cat  \\\n",
       "0  2011              2                   1           1           0         1   \n",
       "1  2011              0                   1           1           0         2   \n",
       "2  2011              2                   1           1           0         1   \n",
       "3  2011              2                   1           1           1         1   \n",
       "4  2011              0                   1           1           0         2   \n",
       "\n",
       "   purpose_cat  interest_payment_cat loan_condition interest_rate  grade_cat  \\\n",
       "0            1                     1      Good Loan             2          2   \n",
       "1            2                     2       Bad Loan             3          3   \n",
       "2            3                     2      Good Loan             3          3   \n",
       "3            4                     2      Good Loan             2          3   \n",
       "4            4                     1      Good Loan             2          2   \n",
       "\n",
       "  installment  region  \n",
       "0           0       4  \n",
       "1           0       0  \n",
       "2           0       3  \n",
       "3           1       1  \n",
       "4           0       1  "
      ]
     },
     "execution_count": 43,
     "metadata": {},
     "output_type": "execute_result"
    }
   ],
   "source": [
    "data.head()"
   ]
  },
  {
   "cell_type": "markdown",
   "metadata": {},
   "source": [
    "### Label Encoder"
   ]
  },
  {
   "cell_type": "code",
   "execution_count": 44,
   "metadata": {},
   "outputs": [],
   "source": [
    "from sklearn.preprocessing import LabelEncoder\n",
    "l=LabelEncoder()\n",
    "data['year']=l.fit_transform(data['year'])\n",
    "l=LabelEncoder()\n",
    "data['loan_condition']=l.fit_transform(data['loan_condition'])"
   ]
  },
  {
   "cell_type": "markdown",
   "metadata": {},
   "source": [
    "### Algorithemic Part"
   ]
  },
  {
   "cell_type": "code",
   "execution_count": 45,
   "metadata": {},
   "outputs": [
    {
     "name": "stdout",
     "output_type": "stream",
     "text": [
      "(887344, 12) (887344, 1)\n"
     ]
    }
   ],
   "source": [
    "from sklearn.metrics import accuracy_score,confusion_matrix\n",
    "from sklearn.linear_model import LogisticRegression,Perceptron\n",
    "from sklearn.model_selection import train_test_split\n",
    "from sklearn.ensemble import RandomForestClassifier\n",
    "from sklearn.neighbors import KNeighborsClassifier\n",
    "from sklearn.naive_bayes import GaussianNB\n",
    "data=data.dropna()\n",
    "data.to_csv (r'C:/Users/sai kiran/Desktop/export_dataframe.csv', index = False, header=True)\n",
    "y=data['loan_condition'].values\n",
    "data.drop('loan_condition',axis=1,inplace=True)\n",
    "x=data[:].values\n",
    "y=y.reshape(-1, 1)\n",
    "print(x.shape,y.shape)\n",
    "x_train,x_test,y_train,y_test = train_test_split(x,y,test_size=0.30)"
   ]
  },
  {
   "cell_type": "code",
   "execution_count": 46,
   "metadata": {},
   "outputs": [
    {
     "name": "stdout",
     "output_type": "stream",
     "text": [
      "[[4 2 1 ... 2 0 4]\n",
      " [4 0 1 ... 3 0 0]\n",
      " [4 2 1 ... 3 0 3]\n",
      " ...\n",
      " [8 1 1 ... 4 1 0]\n",
      " [8 0 1 ... 5 1 2]\n",
      " [8 2 1 ... 2 2 0]] [[1]\n",
      " [0]\n",
      " [1]\n",
      " ...\n",
      " [1]\n",
      " [1]\n",
      " [1]]\n",
      "(887344, 12) (887344, 1)\n"
     ]
    }
   ],
   "source": [
    "print(x,y)\n",
    "print(x.shape,y.shape)"
   ]
  },
  {
   "cell_type": "code",
   "execution_count": 48,
   "metadata": {},
   "outputs": [
    {
     "name": "stderr",
     "output_type": "stream",
     "text": [
      "C:\\Anaconda3\\lib\\site-packages\\sklearn\\utils\\validation.py:72: DataConversionWarning: A column-vector y was passed when a 1d array was expected. Please change the shape of y to (n_samples, ), for example using ravel().\n",
      "  return f(**kwargs)\n"
     ]
    },
    {
     "name": "stdout",
     "output_type": "stream",
     "text": [
      "0.9237727457138135\n"
     ]
    },
    {
     "data": {
      "text/plain": [
       "(0.6203183703014098, 0.5008937843438375, 0.48234365679201496, None)"
      ]
     },
     "execution_count": 48,
     "metadata": {},
     "output_type": "execute_result"
    }
   ],
   "source": [
    "from sklearn.metrics import precision_recall_fscore_support\n",
    "logistic=LogisticRegression()\n",
    "forest=RandomForestClassifier\n",
    "logistic.fit(x_train,y_train)\n",
    "pred=logistic.predict(x_test)\n",
    "print(accuracy_score(pred,y_test))\n",
    "confusion_matrix(pred,y_test)\n",
    "precision_recall_fscore_support(y_test, pred, average='macro')"
   ]
  },
  {
   "cell_type": "markdown",
   "metadata": {},
   "source": [
    "### Decision Tree"
   ]
  },
  {
   "cell_type": "code",
   "execution_count": 49,
   "metadata": {},
   "outputs": [
    {
     "name": "stdout",
     "output_type": "stream",
     "text": [
      "0.9046332887559917\n"
     ]
    },
    {
     "data": {
      "text/plain": [
       "(0.5537538964989098, 0.5224325371365321, 0.5261124509372492, None)"
      ]
     },
     "execution_count": 49,
     "metadata": {},
     "output_type": "execute_result"
    }
   ],
   "source": [
    "from sklearn import tree\n",
    "from sklearn.metrics import precision_recall_fscore_support\n",
    "clf = tree.DecisionTreeClassifier()\n",
    "clf.fit(x_train,y_train)\n",
    "pred=clf.predict(x_test)\n",
    "print(accuracy_score(pred,y_test))\n",
    "confusion_matrix(pred,y_test)\n",
    "precision_recall_fscore_support(y_test, pred, average='macro')"
   ]
  },
  {
   "cell_type": "markdown",
   "metadata": {},
   "source": [
    "### Naive Bayes"
   ]
  },
  {
   "cell_type": "code",
   "execution_count": 50,
   "metadata": {},
   "outputs": [
    {
     "name": "stderr",
     "output_type": "stream",
     "text": [
      "C:\\Anaconda3\\lib\\site-packages\\sklearn\\utils\\validation.py:72: DataConversionWarning: A column-vector y was passed when a 1d array was expected. Please change the shape of y to (n_samples, ), for example using ravel().\n",
      "  return f(**kwargs)\n"
     ]
    },
    {
     "name": "stdout",
     "output_type": "stream",
     "text": [
      "0.8825487220327268\n"
     ]
    },
    {
     "data": {
      "text/plain": [
       "(0.5733360493410691, 0.5696943147586072, 0.5714338600499478, None)"
      ]
     },
     "execution_count": 50,
     "metadata": {},
     "output_type": "execute_result"
    }
   ],
   "source": [
    "from sklearn.naive_bayes import GaussianNB\n",
    "clf= GaussianNB()\n",
    "clf.fit(x_train,y_train)\n",
    "pred=clf.predict(x_test)\n",
    "print(accuracy_score(pred,y_test))\n",
    "confusion_matrix(pred,y_test)\n",
    "precision_recall_fscore_support(y_test, pred, average='macro')"
   ]
  },
  {
   "cell_type": "markdown",
   "metadata": {},
   "source": [
    "### SVM"
   ]
  },
  {
   "cell_type": "code",
   "execution_count": 51,
   "metadata": {},
   "outputs": [],
   "source": [
    "#from sklearn import svm\n",
    "#clf = svm.SVC()\n",
    "#clf.fit(x_train,y_train)\n",
    "#pred=clf.predict(x_test)\n",
    "#print(accuracy_score(pred,y_test))\n",
    "#confusion_matrix(pred,y_test)\n",
    "#precision_recall_fscore_support(y_test, pred, average='macro')"
   ]
  },
  {
   "cell_type": "markdown",
   "metadata": {},
   "source": [
    "### Random Forest"
   ]
  },
  {
   "cell_type": "code",
   "execution_count": 52,
   "metadata": {},
   "outputs": [
    {
     "name": "stderr",
     "output_type": "stream",
     "text": [
      "C:\\Anaconda3\\lib\\site-packages\\ipykernel_launcher.py:3: DataConversionWarning: A column-vector y was passed when a 1d array was expected. Please change the shape of y to (n_samples,), for example using ravel().\n",
      "  This is separate from the ipykernel package so we can avoid doing imports until\n"
     ]
    },
    {
     "name": "stdout",
     "output_type": "stream",
     "text": [
      "0.9239643281092695\n"
     ]
    },
    {
     "name": "stderr",
     "output_type": "stream",
     "text": [
      "C:\\Anaconda3\\lib\\site-packages\\sklearn\\metrics\\_classification.py:1221: UndefinedMetricWarning: Precision and F-score are ill-defined and being set to 0.0 in labels with no predicted samples. Use `zero_division` parameter to control this behavior.\n",
      "  _warn_prf(average, modifier, msg_start, len(result))\n"
     ]
    },
    {
     "data": {
      "text/plain": [
       "(0.46198216405463477, 0.5, 0.4802398436447487, None)"
      ]
     },
     "execution_count": 52,
     "metadata": {},
     "output_type": "execute_result"
    }
   ],
   "source": [
    "from sklearn.ensemble import RandomForestClassifier\n",
    "clf = RandomForestClassifier(max_depth=8, random_state=0)\n",
    "clf.fit(x_train,y_train)\n",
    "pred=clf.predict(x_test)\n",
    "print(accuracy_score(pred,y_test))\n",
    "confusion_matrix(pred,y_test)\n",
    "precision_recall_fscore_support(y_test, pred, average='macro')"
   ]
  },
  {
   "cell_type": "markdown",
   "metadata": {},
   "source": [
    "# ANN"
   ]
  },
  {
   "cell_type": "code",
   "execution_count": 54,
   "metadata": {},
   "outputs": [
    {
     "name": "stdout",
     "output_type": "stream",
     "text": [
      "Epoch 1/80\n",
      "621140/621140 [==============================] - 21s 34us/step - loss: 0.2438 - acc: 0.9238\n",
      "Epoch 2/80\n",
      "621140/621140 [==============================] - 20s 33us/step - loss: 0.2412 - acc: 0.9240\n",
      "Epoch 3/80\n",
      "621140/621140 [==============================] - 21s 33us/step - loss: 0.2405 - acc: 0.9240\n",
      "Epoch 4/80\n",
      "621140/621140 [==============================] - 21s 33us/step - loss: 0.2401 - acc: 0.9240\n",
      "Epoch 5/80\n",
      "621140/621140 [==============================] - 21s 33us/step - loss: 0.2398 - acc: 0.9240\n",
      "Epoch 6/80\n",
      "621140/621140 [==============================] - 21s 33us/step - loss: 0.2396 - acc: 0.9240\n",
      "Epoch 7/80\n",
      "621140/621140 [==============================] - 21s 33us/step - loss: 0.2394 - acc: 0.9240\n",
      "Epoch 8/80\n",
      "621140/621140 [==============================] - 21s 33us/step - loss: 0.2393 - acc: 0.9240\n",
      "Epoch 9/80\n",
      "621140/621140 [==============================] - 21s 33us/step - loss: 0.2393 - acc: 0.9240\n",
      "Epoch 10/80\n",
      "621140/621140 [==============================] - 21s 34us/step - loss: 0.2392 - acc: 0.9240\n",
      "Epoch 11/80\n",
      "621140/621140 [==============================] - 21s 33us/step - loss: 0.2391 - acc: 0.9240\n",
      "Epoch 12/80\n",
      "621140/621140 [==============================] - 21s 34us/step - loss: 0.2390 - acc: 0.9240\n",
      "Epoch 13/80\n",
      "621140/621140 [==============================] - 21s 33us/step - loss: 0.2389 - acc: 0.9240\n",
      "Epoch 14/80\n",
      "621140/621140 [==============================] - 20s 33us/step - loss: 0.2389 - acc: 0.9240\n",
      "Epoch 15/80\n",
      "621140/621140 [==============================] - 20s 33us/step - loss: 0.2388 - acc: 0.9240\n",
      "Epoch 16/80\n",
      "621140/621140 [==============================] - 23s 37us/step - loss: 0.2388 - acc: 0.9240\n",
      "Epoch 17/80\n",
      "621140/621140 [==============================] - 23s 37us/step - loss: 0.2388 - acc: 0.9240\n",
      "Epoch 18/80\n",
      "621140/621140 [==============================] - 24s 38us/step - loss: 0.2387 - acc: 0.9240\n",
      "Epoch 19/80\n",
      "621140/621140 [==============================] - 22s 35us/step - loss: 0.2388 - acc: 0.9240\n",
      "Epoch 20/80\n",
      "621140/621140 [==============================] - 22s 36us/step - loss: 0.2387 - acc: 0.9240\n",
      "Epoch 21/80\n",
      "621140/621140 [==============================] - 23s 38us/step - loss: 0.2387 - acc: 0.9240\n",
      "Epoch 22/80\n",
      "621140/621140 [==============================] - 24s 39us/step - loss: 0.2387 - acc: 0.9240\n",
      "Epoch 23/80\n",
      "621140/621140 [==============================] - 27s 43us/step - loss: 0.2387 - acc: 0.9240\n",
      "Epoch 24/80\n",
      "621140/621140 [==============================] - 26s 42us/step - loss: 0.2387 - acc: 0.9240\n",
      "Epoch 25/80\n",
      "621140/621140 [==============================] - 26s 42us/step - loss: 0.2386 - acc: 0.9240\n",
      "Epoch 26/80\n",
      "621140/621140 [==============================] - 25s 40us/step - loss: 0.2386 - acc: 0.9240\n",
      "Epoch 27/80\n",
      "621140/621140 [==============================] - 28s 45us/step - loss: 0.2386 - acc: 0.9240\n",
      "Epoch 28/80\n",
      "621140/621140 [==============================] - 27s 43us/step - loss: 0.2386 - acc: 0.9240\n",
      "Epoch 29/80\n",
      "621140/621140 [==============================] - 27s 43us/step - loss: 0.2386 - acc: 0.9240\n",
      "Epoch 30/80\n",
      "621140/621140 [==============================] - 29s 46us/step - loss: 0.2386 - acc: 0.9240\n",
      "Epoch 31/80\n",
      "621140/621140 [==============================] - 23s 37us/step - loss: 0.2386 - acc: 0.9240\n",
      "Epoch 32/80\n",
      "621140/621140 [==============================] - 29s 47us/step - loss: 0.2386 - acc: 0.9240\n",
      "Epoch 33/80\n",
      "621140/621140 [==============================] - 25s 40us/step - loss: 0.2386 - acc: 0.9240\n",
      "Epoch 34/80\n",
      "621140/621140 [==============================] - 29s 46us/step - loss: 0.2386 - acc: 0.9240\n",
      "Epoch 35/80\n",
      "621140/621140 [==============================] - 25s 39us/step - loss: 0.2386 - acc: 0.9240\n",
      "Epoch 36/80\n",
      "621140/621140 [==============================] - 26s 42us/step - loss: 0.2386 - acc: 0.9240\n",
      "Epoch 37/80\n",
      "621140/621140 [==============================] - 22s 36us/step - loss: 0.2385 - acc: 0.9240\n",
      "Epoch 38/80\n",
      "621140/621140 [==============================] - 25s 40us/step - loss: 0.2385 - acc: 0.9240\n",
      "Epoch 39/80\n",
      "621140/621140 [==============================] - 22s 36us/step - loss: 0.2385 - acc: 0.9240\n",
      "Epoch 40/80\n",
      "621140/621140 [==============================] - 27s 43us/step - loss: 0.2385 - acc: 0.9240\n",
      "Epoch 41/80\n",
      "621140/621140 [==============================] - 26s 43us/step - loss: 0.2386 - acc: 0.9240 0s - loss: 0.2385 - acc: 0.9\n",
      "Epoch 42/80\n",
      "621140/621140 [==============================] - 30s 49us/step - loss: 0.2385 - acc: 0.9240\n",
      "Epoch 43/80\n",
      "621140/621140 [==============================] - 27s 44us/step - loss: 0.2385 - acc: 0.9240\n",
      "Epoch 44/80\n",
      "621140/621140 [==============================] - 25s 39us/step - loss: 0.2385 - acc: 0.9240\n",
      "Epoch 45/80\n",
      "621140/621140 [==============================] - 28s 44us/step - loss: 0.2385 - acc: 0.9240\n",
      "Epoch 46/80\n",
      "621140/621140 [==============================] - 23s 36us/step - loss: 0.2384 - acc: 0.9240 1s \n",
      "Epoch 47/80\n",
      "621140/621140 [==============================] - 27s 44us/step - loss: 0.2384 - acc: 0.9240\n",
      "Epoch 48/80\n",
      "621140/621140 [==============================] - 31s 49us/step - loss: 0.2385 - acc: 0.9240\n",
      "Epoch 49/80\n",
      "621140/621140 [==============================] - 29s 47us/step - loss: 0.2385 - acc: 0.9240\n",
      "Epoch 50/80\n",
      "621140/621140 [==============================] - 31s 50us/step - loss: 0.2385 - acc: 0.9240\n",
      "Epoch 51/80\n",
      "621140/621140 [==============================] - 31s 50us/step - loss: 0.2384 - acc: 0.9240\n",
      "Epoch 52/80\n",
      "621140/621140 [==============================] - 35s 57us/step - loss: 0.2384 - acc: 0.9240\n",
      "Epoch 53/80\n",
      "621140/621140 [==============================] - 28s 44us/step - loss: 0.2384 - acc: 0.9240\n",
      "Epoch 54/80\n",
      "621140/621140 [==============================] - 28s 45us/step - loss: 0.2385 - acc: 0.9240 0s - loss: 0.2385 - acc: 0.9\n",
      "Epoch 55/80\n",
      "621140/621140 [==============================] - 27s 43us/step - loss: 0.2384 - acc: 0.9240\n",
      "Epoch 56/80\n",
      "621140/621140 [==============================] - 27s 44us/step - loss: 0.2385 - acc: 0.9240\n",
      "Epoch 57/80\n",
      "621140/621140 [==============================] - 26s 42us/step - loss: 0.2385 - acc: 0.9240\n",
      "Epoch 58/80\n",
      "621140/621140 [==============================] - 25s 40us/step - loss: 0.2384 - acc: 0.9240\n",
      "Epoch 59/80\n",
      "621140/621140 [==============================] - 27s 43us/step - loss: 0.2384 - acc: 0.9240\n",
      "Epoch 60/80\n",
      "621140/621140 [==============================] - 28s 45us/step - loss: 0.2384 - acc: 0.9240\n",
      "Epoch 61/80\n",
      "621140/621140 [==============================] - 27s 43us/step - loss: 0.2384 - acc: 0.9240\n",
      "Epoch 62/80\n",
      "621140/621140 [==============================] - 24s 38us/step - loss: 0.2384 - acc: 0.9240\n",
      "Epoch 63/80\n",
      "621140/621140 [==============================] - 30s 48us/step - loss: 0.2384 - acc: 0.9240\n",
      "Epoch 64/80\n",
      "621140/621140 [==============================] - 26s 42us/step - loss: 0.2384 - acc: 0.9240\n",
      "Epoch 65/80\n",
      "621140/621140 [==============================] - 27s 44us/step - loss: 0.2384 - acc: 0.9240\n",
      "Epoch 66/80\n",
      "621140/621140 [==============================] - 22s 35us/step - loss: 0.2384 - acc: 0.9240\n",
      "Epoch 67/80\n",
      "621140/621140 [==============================] - 27s 43us/step - loss: 0.2384 - acc: 0.9240\n",
      "Epoch 68/80\n",
      "621140/621140 [==============================] - 22s 35us/step - loss: 0.2384 - acc: 0.9240\n",
      "Epoch 69/80\n",
      "621140/621140 [==============================] - 27s 43us/step - loss: 0.2384 - acc: 0.9240 0s - loss: 0.2384\n",
      "Epoch 70/80\n",
      "621140/621140 [==============================] - 31s 50us/step - loss: 0.2384 - acc: 0.9240\n",
      "Epoch 71/80\n",
      "621140/621140 [==============================] - 28s 45us/step - loss: 0.2384 - acc: 0.9240\n",
      "Epoch 72/80\n",
      "621140/621140 [==============================] - 23s 37us/step - loss: 0.2384 - acc: 0.9240\n",
      "Epoch 73/80\n",
      "621140/621140 [==============================] - 25s 40us/step - loss: 0.2384 - acc: 0.9240\n",
      "Epoch 74/80\n",
      "621140/621140 [==============================] - 27s 43us/step - loss: 0.2384 - acc: 0.9240\n",
      "Epoch 75/80\n",
      "621140/621140 [==============================] - 27s 44us/step - loss: 0.2384 - acc: 0.9240\n",
      "Epoch 76/80\n",
      "621140/621140 [==============================] - 26s 43us/step - loss: 0.2384 - acc: 0.9240\n",
      "Epoch 77/80\n",
      "621140/621140 [==============================] - 27s 43us/step - loss: 0.2384 - acc: 0.9240\n",
      "Epoch 78/80\n"
     ]
    },
    {
     "name": "stdout",
     "output_type": "stream",
     "text": [
      "621140/621140 [==============================] - 25s 40us/step - loss: 0.2384 - acc: 0.9240\n",
      "Epoch 79/80\n",
      "621140/621140 [==============================] - 25s 40us/step - loss: 0.2384 - acc: 0.9240\n",
      "Epoch 80/80\n",
      "621140/621140 [==============================] - 28s 45us/step - loss: 0.2384 - acc: 0.9240\n"
     ]
    },
    {
     "data": {
      "text/plain": [
       "<keras.callbacks.History at 0x20e272b0390>"
      ]
     },
     "execution_count": 54,
     "metadata": {},
     "output_type": "execute_result"
    }
   ],
   "source": [
    "from keras.models import Sequential\n",
    "from keras.layers import Dense\n",
    "model = Sequential()\n",
    "model.add(Dense(16, input_dim=12, activation='relu'))\n",
    "model.add(Dense(8, activation='relu'))\n",
    "model.add(Dense(1, activation='sigmoid'))\n",
    "model.compile(loss='binary_crossentropy', optimizer='adam', metrics=['accuracy'])\n",
    "model.fit(x_train,y_train, epochs=80, batch_size=30)"
   ]
  },
  {
   "cell_type": "code",
   "execution_count": 55,
   "metadata": {},
   "outputs": [
    {
     "name": "stdout",
     "output_type": "stream",
     "text": [
      "266204/266204 [==============================] - 5s 19us/step\n"
     ]
    }
   ],
   "source": [
    "_,accuracy = model.evaluate(x_test,y_test)"
   ]
  },
  {
   "cell_type": "code",
   "execution_count": 56,
   "metadata": {},
   "outputs": [],
   "source": [
    "pred=model.predict_classes(x_test)"
   ]
  },
  {
   "cell_type": "code",
   "execution_count": 57,
   "metadata": {},
   "outputs": [
    {
     "name": "stderr",
     "output_type": "stream",
     "text": [
      "C:\\Anaconda3\\lib\\site-packages\\sklearn\\metrics\\_classification.py:1221: UndefinedMetricWarning: Precision and F-score are ill-defined and being set to 0.0 in labels with no predicted samples. Use `zero_division` parameter to control this behavior.\n",
      "  _warn_prf(average, modifier, msg_start, len(result))\n"
     ]
    },
    {
     "data": {
      "text/plain": [
       "(0.46198216405463477, 0.5, 0.4802398436447487, None)"
      ]
     },
     "execution_count": 57,
     "metadata": {},
     "output_type": "execute_result"
    }
   ],
   "source": [
    "precision_recall_fscore_support(y_test, pred, average='macro')"
   ]
  },
  {
   "cell_type": "code",
   "execution_count": 58,
   "metadata": {},
   "outputs": [
    {
     "data": {
      "text/plain": [
       "0.9239643281110609"
      ]
     },
     "execution_count": 58,
     "metadata": {},
     "output_type": "execute_result"
    }
   ],
   "source": [
    "accuracy"
   ]
  },
  {
   "cell_type": "code",
   "execution_count": null,
   "metadata": {},
   "outputs": [],
   "source": []
  }
 ],
 "metadata": {
  "kernelspec": {
   "display_name": "Python 3",
   "language": "python",
   "name": "python3"
  },
  "language_info": {
   "codemirror_mode": {
    "name": "ipython",
    "version": 3
   },
   "file_extension": ".py",
   "mimetype": "text/x-python",
   "name": "python",
   "nbconvert_exporter": "python",
   "pygments_lexer": "ipython3",
   "version": "3.6.5"
  }
 },
 "nbformat": 4,
 "nbformat_minor": 2
}
